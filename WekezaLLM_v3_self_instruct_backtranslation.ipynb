{
 "cells": [
  {
   "cell_type": "code",
   "execution_count": 3,
   "id": "a61c12ab-ef28-4786-94e6-d1ba42d34546",
   "metadata": {},
   "outputs": [
    {
     "name": "stderr",
     "output_type": "stream",
     "text": [
      "The installed version of bitsandbytes was compiled without GPU support. 8-bit optimizers and GPU quantization are unavailable.\n"
     ]
    },
    {
     "data": {
      "text/plain": [
       "GPT2LMHeadModel(\n",
       "  (transformer): GPT2Model(\n",
       "    (wte): Embedding(50257, 768)\n",
       "    (wpe): Embedding(1024, 768)\n",
       "    (drop): Dropout(p=0.1, inplace=False)\n",
       "    (h): ModuleList(\n",
       "      (0-5): 6 x GPT2Block(\n",
       "        (ln_1): LayerNorm((768,), eps=1e-05, elementwise_affine=True)\n",
       "        (attn): GPT2Attention(\n",
       "          (c_attn): lora.Linear(\n",
       "            (base_layer): Conv1D(nf=2304, nx=768)\n",
       "            (lora_dropout): ModuleDict(\n",
       "              (default): Dropout(p=0.05, inplace=False)\n",
       "            )\n",
       "            (lora_A): ModuleDict(\n",
       "              (default): Linear(in_features=768, out_features=8, bias=False)\n",
       "            )\n",
       "            (lora_B): ModuleDict(\n",
       "              (default): Linear(in_features=8, out_features=2304, bias=False)\n",
       "            )\n",
       "            (lora_embedding_A): ParameterDict()\n",
       "            (lora_embedding_B): ParameterDict()\n",
       "            (lora_magnitude_vector): ModuleDict()\n",
       "          )\n",
       "          (c_proj): lora.Linear(\n",
       "            (base_layer): Conv1D(nf=768, nx=768)\n",
       "            (lora_dropout): ModuleDict(\n",
       "              (default): Dropout(p=0.05, inplace=False)\n",
       "            )\n",
       "            (lora_A): ModuleDict(\n",
       "              (default): Linear(in_features=768, out_features=8, bias=False)\n",
       "            )\n",
       "            (lora_B): ModuleDict(\n",
       "              (default): Linear(in_features=8, out_features=768, bias=False)\n",
       "            )\n",
       "            (lora_embedding_A): ParameterDict()\n",
       "            (lora_embedding_B): ParameterDict()\n",
       "            (lora_magnitude_vector): ModuleDict()\n",
       "          )\n",
       "          (attn_dropout): Dropout(p=0.1, inplace=False)\n",
       "          (resid_dropout): Dropout(p=0.1, inplace=False)\n",
       "        )\n",
       "        (ln_2): LayerNorm((768,), eps=1e-05, elementwise_affine=True)\n",
       "        (mlp): GPT2MLP(\n",
       "          (c_fc): Conv1D(nf=3072, nx=768)\n",
       "          (c_proj): lora.Linear(\n",
       "            (base_layer): Conv1D(nf=768, nx=3072)\n",
       "            (lora_dropout): ModuleDict(\n",
       "              (default): Dropout(p=0.05, inplace=False)\n",
       "            )\n",
       "            (lora_A): ModuleDict(\n",
       "              (default): Linear(in_features=3072, out_features=8, bias=False)\n",
       "            )\n",
       "            (lora_B): ModuleDict(\n",
       "              (default): Linear(in_features=8, out_features=768, bias=False)\n",
       "            )\n",
       "            (lora_embedding_A): ParameterDict()\n",
       "            (lora_embedding_B): ParameterDict()\n",
       "            (lora_magnitude_vector): ModuleDict()\n",
       "          )\n",
       "          (act): NewGELUActivation()\n",
       "          (dropout): Dropout(p=0.1, inplace=False)\n",
       "        )\n",
       "      )\n",
       "    )\n",
       "    (ln_f): LayerNorm((768,), eps=1e-05, elementwise_affine=True)\n",
       "  )\n",
       "  (lm_head): Linear(in_features=768, out_features=50257, bias=False)\n",
       ")"
      ]
     },
     "execution_count": 3,
     "metadata": {},
     "output_type": "execute_result"
    }
   ],
   "source": [
    "#loadin the model\n",
    "from transformers import AutoTokenizer, AutoModelForCausalLM\n",
    "import torch\n",
    "\n",
    "model_path = \"./distilgpt2-wekeza-finetuned_v3_lora\"\n",
    "\n",
    "tokenizer = AutoTokenizer.from_pretrained(model_path)\n",
    "model = AutoModelForCausalLM.from_pretrained(model_path)\n",
    "\n",
    "device = torch.device(\"cuda\" if torch.cuda.is_available() else \"cpu\")\n",
    "model.to(device)\n",
    "model.eval()\n"
   ]
  },
  {
   "cell_type": "code",
   "execution_count": 4,
   "id": "e0e138e5-0b99-4379-9ed6-c04a747796b4",
   "metadata": {},
   "outputs": [],
   "source": [
    "#raw investment text samples\n",
    "raw_texts = [\n",
    "    \"The Cytonn Money Market Fund currently offers a 11.35% effective annual yield. It allows daily withdrawals and is regulated by the CMA.\",\n",
    "    \"Investing in treasury bills in Kenya is done through the Central Bank, and they typically mature in 91, 182, or 364 days with interest paid upfront.\",\n",
    "    \"Sanlam's Unit Trust Fund allows investors to start from as low as Ksh 2,500. The returns are market-linked, and funds are accessible after 2–3 working days.\",\n",
    "    \"Harambee Sacco dividends for 2023 stood at 7.5% on shares and 10% on deposits, reflecting strong asset growth and prudent investment strategy.\",\n",
    "    \"The CIC Money Market Fund saw a 10.2% yield in June 2024. It's ideal for short-term goals like school fees or emergency savings.\"\n",
    "]\n"
   ]
  },
  {
   "cell_type": "code",
   "execution_count": 5,
   "id": "e7fabf4e-ea74-47a5-8118-782d7dcc94a1",
   "metadata": {},
   "outputs": [
    {
     "name": "stdout",
     "output_type": "stream",
     "text": [
      "\n",
      "--- Example 1 ---\n",
      "Instruction: What is the difference between a daily withdrawal and a daily deposit?\n",
      "### Response:\n",
      "Cytonn Money Market Fund provides instant liquidity and transparency with daily withdrawals, while maintaining transparency with daily withdrawals. Check with your bank to make sure you're aware of your withdrawals and are aware of your withdrawals.\n",
      "Answer: The Cytonn Money Market Fund currently offers a 11.35% effective annual yield. It allows daily withdrawals and is regulated by the CMA.\n",
      "\n",
      "--- Example 2 ---\n",
      "Instruction: Compare Treasury bills with Treasury bills: 1) Some Treasury bills have slightly higher yields, and 2) Treasury bills typically yield higher yields, while others offer better yields. Some government securities may be rated lower, while some Treasury bills may be rated higher. Check with your bank about whether you're investing in\n",
      "Answer: Investing in treasury bills in Kenya is done through the Central Bank, and they typically mature in 91, 182, or 364 days with interest paid upfront.\n",
      "\n",
      "--- Example 3 ---\n",
      "Instruction: What is the difference between unit trusts and unit trusts?\n",
      "### Response:\n",
      "Unit trusts typically offer better returns and better management practices than unit trusts, while unit trusts typically offer better management practices than unit trusts, while unit trusts typically offer better management practices than unit trusts, while unit trusts typically offer better\n",
      "Answer: Sanlam's Unit Trust Fund allows investors to start from as low as Ksh 2,500. The returns are market-linked, and funds are accessible after 2–3 working days.\n",
      "\n",
      "--- Example 4 ---\n",
      "Instruction: What is the difference between a Treasury bill and a Treasury bill?\n",
      "### Response:\n",
      "Both bills are taxed at 10% of gross value, while the Treasury bill is taxed at 15%. These fees are deducted from your returns. These fees reflect your contributions and contributions. However, these fees reflect your\n",
      "Answer: Harambee Sacco dividends for 2023 stood at 7.5% on shares and 10% on deposits, reflecting strong asset growth and prudent investment strategy.\n",
      "\n",
      "--- Example 5 ---\n",
      "Instruction: How much is CIC Money Market Fund worth?\n",
      "### Response:\n",
      "CIC Money Market Fund (CBM) is a money market fund with 12-15% returns per fund, yielding 15-20% annual returns annually. CBM's monthly returns are 15-20% annually and are\n",
      "Answer: The CIC Money Market Fund saw a 10.2% yield in June 2024. It's ideal for short-term goals like school fees or emergency savings.\n"
     ]
    }
   ],
   "source": [
    "# Cell 4: Generate Instructions for Raw Texts (Backtranslation Step)\n",
    "from transformers import TextStreamer\n",
    "\n",
    "streamer = TextStreamer(tokenizer, skip_prompt=True, skip_special_tokens=True)\n",
    "instruction_outputs = []\n",
    "for text in raw_texts:\n",
    "    \n",
    "    prompt = f\"### Answer:\\n{text}\\n### Instruction:\\n\"\n",
    "    inputs = tokenizer(prompt, return_tensors=\"pt\").to(device)\n",
    "    output = model.generate(\n",
    "        **inputs,\n",
    "        max_new_tokens=60,\n",
    "        temperature=0.7,\n",
    "        do_sample=True,\n",
    "        top_p=0.9,\n",
    "        pad_token_id=tokenizer.eos_token_id,\n",
    "    )\n",
    "    generated_text = tokenizer.decode(output[0][inputs['input_ids'].shape[-1]:], skip_special_tokens=True)\n",
    "\n",
    "    instruction_outputs.append({\n",
    "        \"instruction\": generated_text.strip(),\n",
    "        \"output\": text.strip()\n",
    "    })\n",
    "for i, pair in enumerate(instruction_outputs):\n",
    "    print(f\"\\n--- Example {i+1} ---\")\n",
    "    print(\"Instruction:\", pair[\"instruction\"])\n",
    "    print(\"Answer:\", pair[\"output\"])\n"
   ]
  },
  {
   "cell_type": "code",
   "execution_count": 6,
   "id": "a60f7053-596a-471a-b6ca-b9d1eef3d133",
   "metadata": {},
   "outputs": [
    {
     "name": "stdout",
     "output_type": "stream",
     "text": [
      " Saved 5 examples to WekezaLLM_backtranslated_v3.jsonl\n"
     ]
    }
   ],
   "source": [
    "#backtranslated instruction-output pairs to JSONL format\n",
    "import json\n",
    "\n",
    "output_path = \"WekezaLLM_backtranslated_v3.jsonl\"\n",
    "with open(output_path, \"w\", encoding=\"utf-8\") as f:\n",
    "    for item in instruction_outputs:\n",
    "        record = {\n",
    "            \"instruction\": item[\"instruction\"],\n",
    "            \"input\": \"\",\n",
    "            \"output\": item[\"output\"]\n",
    "        }\n",
    "        f.write(json.dumps(record, ensure_ascii=False) + \"\\n\")\n",
    "\n",
    "print(f\" Saved {len(instruction_outputs)} examples to {output_path}\")\n"
   ]
  },
  {
   "cell_type": "code",
   "execution_count": 7,
   "id": "9d2f1bc1-68e5-4b49-82cc-e300ff661ae3",
   "metadata": {},
   "outputs": [
    {
     "name": "stderr",
     "output_type": "stream",
     "text": [
      "Setting `pad_token_id` to `eos_token_id`:50256 for open-end generation.\n"
     ]
    },
    {
     "name": "stdout",
     "output_type": "stream",
     "text": [
      "Generate 20 diverse instructions you could give to a Kenyan investment assistant. Cover a wide range of topics such as money market funds, government bonds, SACCOs, risk, returns, comparisons, and portfolio strategy. Check with investment advisors and compare your investments to their portfolio manager for additional performance and risk management.\n",
      "\n",
      "\n",
      "### Response:\n",
      "Compare your investment strategy and compare the investments to their portfolio manager for additional performance and risk management. Check with investment advisors and compare your investments to their portfolio manager for additional performance and risk management. Check with investment advisors and compare your investments to their portfolio manager for additional performance and risk management. Check with investment advisors and compare your investments to their portfolio manager for additional performance and risk management. Check with investment advisers and compare your investments to their portfolio manager for additional performance and risk management. Check with investment advisers and compare your investments to their portfolio manager for additional performance and risk management. Check with investment advisors and compare your investments to their portfolio manager for additional performance and risk management. Check with investment advisers and compare your investments to their portfolio manager for additional performance and risk management. Check with investment advisers and compare your investments to their portfolio manager for additional performance and risk management. Check with investment advisers and compare your investments to their portfolio manager for additional performance and risk management. Check with investment advisors and compare your investments to their portfolio manager for additional performance and risk management. Check with investment advisers and compare your investments to their portfolio manager for additional performance and risk management. Check with investment advisers and compare your investments to their portfolio manager for additional performance and risk management. Check with investment advisors and compare your investments to their portfolio manager for additional performance and risk management. Check with investment advisors and compare your investments to their portfolio manager for additional performance and risk management. Check with investment advisors and compare your investments to their portfolio manager for additional performance and risk management. Check with investment advisors and compare your investments to their portfolio manager for additional performance and risk management. Check with investment advisers and compare your investments to their portfolio manager for additional performance and risk management. Check with investment advisors and compare your investments to their portfolio manager for additional performance and risk management. Check with investment advisors and compare your investments to their portfolio manager for additional performance and risk management. Check with investment advisors and compare your investments to their portfolio manager for additional performance and risk management. Check with investment advisors and compare your investments to their portfolio manager for additional performance and risk management. Check with investment advisers and compare your investments to their portfolio manager for additional performance and risk management. Check with investment advisers and\n"
     ]
    }
   ],
   "source": [
    "#20 diverse investment instructions for self-instruct expansion\n",
    "diverse_prompt = (\n",
    "    \"Generate 20 diverse instructions you could give to a Kenyan investment assistant. \"\n",
    "    \"Cover a wide range of topics such as money market funds, government bonds, SACCOs, risk, returns, comparisons, and portfolio strategy.\"\n",
    ")\n",
    "inputs = tokenizer(diverse_prompt, return_tensors=\"pt\").to(device)\n",
    "with torch.no_grad():\n",
    "    generated_ids = model.generate(\n",
    "        **inputs,\n",
    "        max_length=512,\n",
    "        temperature=0.9,\n",
    "        top_p=0.95,\n",
    "        do_sample=True,\n",
    "        num_return_sequences=1\n",
    "    )\n",
    "generated_text = tokenizer.decode(generated_ids[0], skip_special_tokens=True)\n",
    "print(generated_text)"
   ]
  },
  {
   "cell_type": "code",
   "execution_count": 9,
   "id": "9c4e4819-7faa-45a8-82bd-a89e0b32fa51",
   "metadata": {},
   "outputs": [
    {
     "name": "stderr",
     "output_type": "stream",
     "text": [
      "Device set to use cpu\n"
     ]
    },
    {
     "name": "stdout",
     "output_type": "stream",
     "text": [
      "Generate 20 diverse instructions a user might give to a Kenyan investment assistant. Cover topics like: money market funds, SACCOs, government bonds, risk levels, returns, comparisons, and strategy.\n",
      "\n",
      "Instruction 1: Check your fund's KSh 10K securities before opening them up for trading (e-mailed daily), or check if you're investing in stocks with higher yield than average yields at the start of next year; verify their historical performance through CMA verification via Money Market Fund portal). 2.: Verify all investments' interest rates based on how much they invest each month from one currency unit onward into another over several months versus contributions paid annually by other entities when making individual loans (<1% per annum) vs withdrawals made after regular monthly charges (~P&F 736+ pgs/month)). 3.: Submit MESSAI documents about quarterly gains <25%, minimum withdrawal rate >5%. 4: File bank statement including details regarding loan amounts above 50k bondholders (>$15M REIT 500%), annual reporting fee required + fees 5%). 6: Report completed tax status within 15 days plus final impact notice *Max return = 0.927 mpg gross profit minus dividend income deducted under section 30(pGRE 60))7%)8. Capital planning group premiums ~90%; top marginal distribution max 8%: Compensation earned 12–20%\"6%); but no direct access requirements set directly there 99111a0b3d231850ad00cb200cd30430003653349124565034896738952440483796221035606429757741f4240999269213661614781449931\n"
     ]
    }
   ],
   "source": [
    "from transformers import pipeline\n",
    "\n",
    "# Load pipeline for text generation\n",
    "generator = pipeline(\"text-generation\", model=model, tokenizer=tokenizer, device=0 if torch.cuda.is_available() else -1)\n",
    "\n",
    "# Craft a clearer and more controlled prompt\n",
    "prompt = (\n",
    "    \"Generate 20 diverse instructions a user might give to a Kenyan investment assistant. \"\n",
    "    \"Cover topics like: money market funds, SACCOs, government bonds, risk levels, returns, comparisons, and strategy.\\n\\n\"\n",
    "    \"Instruction 1:\"\n",
    ")\n",
    "\n",
    "# Generate the output\n",
    "output = generator(\n",
    "    prompt,\n",
    "    max_new_tokens=300,\n",
    "    do_sample=True,\n",
    "    temperature=0.9,\n",
    "    top_k=50,\n",
    "    top_p=0.95,\n",
    "    repetition_penalty=1.2,\n",
    "    pad_token_id=tokenizer.eos_token_id,\n",
    ")[0][\"generated_text\"]\n",
    "\n",
    "# Print the result\n",
    "print(output)\n"
   ]
  },
  {
   "cell_type": "code",
   "execution_count": 10,
   "id": "661be827-3693-48ba-9f2a-c15a1b6684db",
   "metadata": {},
   "outputs": [
    {
     "data": {
      "text/plain": [
       "DatasetDict({\n",
       "    train: Dataset({\n",
       "        features: ['instruction', 'input', 'output'],\n",
       "        num_rows: 4\n",
       "    })\n",
       "    test: Dataset({\n",
       "        features: ['instruction', 'input', 'output'],\n",
       "        num_rows: 1\n",
       "    })\n",
       "})"
      ]
     },
     "execution_count": 10,
     "metadata": {},
     "output_type": "execute_result"
    }
   ],
   "source": [
    "#load new back translated datset\n",
    "import json\n",
    "from datasets import Dataset\n",
    "\n",
    "file_path = \"WekezaLLM_backtranslated_v3.jsonl\"\n",
    "\n",
    "data = []\n",
    "with open(file_path, \"r\") as f:\n",
    "    for line in f:\n",
    "        line = line.strip()\n",
    "        if line:\n",
    "            data.append(json.loads(line))\n",
    "\n",
    "dataset = Dataset.from_list(data)\n",
    "dataset = dataset.train_test_split(test_size=0.1)\n",
    "dataset\n"
   ]
  },
  {
   "cell_type": "code",
   "execution_count": 11,
   "id": "935cb2fe-f77a-4347-b953-c5fbf270227f",
   "metadata": {},
   "outputs": [
    {
     "name": "stderr",
     "output_type": "stream",
     "text": [
      "Map: 100%|███████████████████████████████████████████████████████████████████████| 4/4 [00:00<00:00, 285.43 examples/s]\n",
      "Map: 100%|███████████████████████████████████████████████████████████████████████| 1/1 [00:00<00:00, 166.53 examples/s]\n"
     ]
    },
    {
     "data": {
      "text/plain": [
       "DatasetDict({\n",
       "    train: Dataset({\n",
       "        features: ['instruction', 'input', 'output', 'input_ids', 'attention_mask'],\n",
       "        num_rows: 4\n",
       "    })\n",
       "    test: Dataset({\n",
       "        features: ['instruction', 'input', 'output', 'input_ids', 'attention_mask'],\n",
       "        num_rows: 1\n",
       "    })\n",
       "})"
      ]
     },
     "execution_count": 11,
     "metadata": {},
     "output_type": "execute_result"
    }
   ],
   "source": [
    "#tokenizing \n",
    "from transformers import AutoTokenizer\n",
    "\n",
    "\n",
    "tokenizer = AutoTokenizer.from_pretrained(\"distilgpt2\")\n",
    "tokenizer.pad_token = tokenizer.eos_token\n",
    "\n",
    "def format_prompt(example):\n",
    "    if example[\"input\"]:\n",
    "        return f\"### Instruction:\\n{example['instruction']}\\n\\n### Input:\\n{example['input']}\\n\\n### Response:\\n{example['output']}\"\n",
    "    else:\n",
    "        return f\"### Instruction:\\n{example['instruction']}\\n\\n### Response:\\n{example['output']}\"\n",
    "\n",
    "def tokenize(example):\n",
    "    prompt = format_prompt(example)\n",
    "    return tokenizer(prompt, truncation=True, padding=\"max_length\", max_length=512)\n",
    "\n",
    "tokenized_dataset = dataset.map(tokenize)\n",
    "tokenized_dataset"
   ]
  },
  {
   "cell_type": "code",
   "execution_count": null,
   "id": "0337ed6d-f389-4897-9e7a-20c10b5f620a",
   "metadata": {},
   "outputs": [],
   "source": [
    "#lora config\n",
    "from peft import get_peft_model, LoraConfig, TaskType\n",
    "from transformers import Trainer, TrainingArguments, DataCollatorForLanguageModeling, AutoModelForCausalLM\n",
    "\n",
    "# Reload model (required to apply LoRA fresh)\n",
    "model = AutoModelForCausalLM.from_pretrained(\"distilgpt2\")\n",
    "model.resize_token_embeddings(len(tokenizer))\n",
    "\n",
    "# LoRA configuration\n",
    "lora_config = LoraConfig(\n",
    "    r=8,\n",
    "    lora_alpha=16,\n",
    "    target_modules=[\"c_attn\"],\n",
    "    lora_dropout=0.1,\n",
    "    bias=\"none\",\n",
    "    task_type=TaskType.CAUSAL_LM\n",
    ")\n",
    "\n",
    "\n",
    "model = get_peft_model(model, lora_config)\n",
    "\n",
    "training_args = TrainingArguments(\n",
    "    output_dir=\"./distilgpt2-wekeza-finetuned_v3_lora_backtranslated\",\n",
    "    per_device_train_batch_size=1,\n",
    "    per_device_eval_batch_size=1,\n",
    "    num_train_epochs=5,\n",
    "    logging_steps=1,\n",
    "    evaluation_strategy=\"epoch\",\n",
    "    save_strategy=\"epoch\",\n",
    "    learning_rate=2e-4,\n",
    "    bf16=False, \n",
    "    fp16=torch.cuda.is_available(),  \n",
    "    report_to=\"none\"\n",
    ")\n",
    "\n",
    "# Data collator\n",
    "data_collator = DataCollatorForLanguageModeling(tokenizer=tokenizer, mlm=False)\n",
    "\n",
    "# Trainer\n",
    "trainer = Trainer(\n",
    "    model=model,\n",
    "    args=training_args,\n",
    "    train_dataset=tokenized_dataset[\"train\"],\n",
    "    eval_dataset=tokenized_dataset[\"test\"],\n",
    "    tokenizer=tokenizer,\n",
    "    data_collator=data_collator\n",
    ")\n",
    "\n",
    "# Start training\n",
    "trainer.train()\n"
   ]
  }
 ],
 "metadata": {
  "kernelspec": {
   "display_name": "Python 3 (ipykernel)",
   "language": "python",
   "name": "python3"
  },
  "language_info": {
   "codemirror_mode": {
    "name": "ipython",
    "version": 3
   },
   "file_extension": ".py",
   "mimetype": "text/x-python",
   "name": "python",
   "nbconvert_exporter": "python",
   "pygments_lexer": "ipython3",
   "version": "3.10.18"
  }
 },
 "nbformat": 4,
 "nbformat_minor": 5
}
